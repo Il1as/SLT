{
 "cells": [
  {
   "cell_type": "code",
   "execution_count": 28,
   "metadata": {},
   "outputs": [
    {
     "name": "stdout",
     "output_type": "stream",
     "text": [
      "                 x1        y1        z1        v1        x2        y2  \\\n",
      "class                                                                   \n",
      "alligator  0.504653  0.501438 -1.113041  0.999985  0.535648  0.431105   \n",
      "alligator  0.500935  0.539563 -1.045076  0.999919  0.520752  0.473767   \n",
      "alligator  0.487400  0.552141 -1.104038  0.999810  0.504464  0.486472   \n",
      "alligator  0.473660  0.588771 -1.037465  0.999395  0.493472  0.526752   \n",
      "alligator  0.494852  0.633939 -1.338624  0.999412  0.502440  0.549497   \n",
      "\n",
      "                 z2        v2        x3        y3  ...       z73  v73  \\\n",
      "class                                              ...                  \n",
      "alligator -1.005373  0.999963  0.557160  0.430072  ...  0.033592  0.0   \n",
      "alligator -0.984447  0.999883  0.536487  0.469937  ... -0.271975  0.0   \n",
      "alligator -1.060450  0.999769  0.519468  0.480389  ... -0.377150  0.0   \n",
      "alligator -0.966889  0.999363  0.504056  0.522080  ... -0.314230  0.0   \n",
      "alligator -1.263094  0.999377  0.511942  0.540968  ... -0.458923  0.0   \n",
      "\n",
      "                x74       y74       z74  v74       x75       y75       z75  \\\n",
      "class                                                                        \n",
      "alligator  0.906918  0.595527  0.038140  0.0  0.917459  0.572870  0.046223   \n",
      "alligator  0.617976  0.573256 -0.291905  0.0  0.639037  0.620868 -0.296293   \n",
      "alligator  0.715934  0.520150 -0.447898  0.0  0.721946  0.567832 -0.487953   \n",
      "alligator  0.611534  0.661773 -0.343764  0.0  0.598274  0.725422 -0.358115   \n",
      "alligator  0.681627  0.637075 -0.545212  0.0  0.681648  0.575003 -0.607409   \n",
      "\n",
      "           v75  \n",
      "class           \n",
      "alligator  0.0  \n",
      "alligator  0.0  \n",
      "alligator  0.0  \n",
      "alligator  0.0  \n",
      "alligator  0.0  \n",
      "\n",
      "[5 rows x 300 columns]\n"
     ]
    }
   ],
   "source": [
    "import pandas\n",
    "result = pandas.read_csv('datasets/animals.csv',index_col=0)\n",
    "print(result.head())"
   ]
  },
  {
   "cell_type": "code",
   "execution_count": 29,
   "metadata": {},
   "outputs": [],
   "source": [
    "# imports \n",
    "\n",
    "import csv\n",
    "import os\n",
    "import numpy as np\n",
    "\n",
    "# Create Csv file for the first time\n",
    "\n",
    "landmarks = ['class']\n",
    "for val in range(1, 75+1):\n",
    "    landmarks += ['x{}'.format(val), 'y{}'.format(val), 'z{}'.format(val), 'v{}'.format(val)]\n",
    "\n",
    "with open('datasets/one_hand.csv', mode='w', newline='') as f:#your_csv_file\n",
    "    csv_writer = csv.writer(f, delimiter=',', quotechar='\"', quoting=csv.QUOTE_MINIMAL)\n",
    "    csv_writer.writerow(landmarks)"
   ]
  },
  {
   "cell_type": "code",
   "execution_count": 31,
   "metadata": {},
   "outputs": [],
   "source": [
    "wnat = result.loc[result[['x34','x55']].isin(['nan']).any(axis=1)]"
   ]
  },
  {
   "cell_type": "code",
   "execution_count": 32,
   "metadata": {},
   "outputs": [],
   "source": [
    "wnat.to_csv('datasets/one_hand.csv', mode='a', header=False)"
   ]
  },
  {
   "cell_type": "code",
   "execution_count": 33,
   "metadata": {},
   "outputs": [],
   "source": [
    "# imports \n",
    "\n",
    "import csv\n",
    "import os\n",
    "import numpy as np\n",
    "\n",
    "# Create Csv file for the first time\n",
    "\n",
    "landmarks = ['class']\n",
    "for val in range(1, 75+1):\n",
    "    landmarks += ['x{}'.format(val), 'y{}'.format(val), 'z{}'.format(val), 'v{}'.format(val)]\n",
    "\n",
    "with open('datasets/two_hands.csv', mode='w', newline='') as f:#your_csv_file\n",
    "    csv_writer = csv.writer(f, delimiter=',', quotechar='\"', quoting=csv.QUOTE_MINIMAL)\n",
    "    csv_writer.writerow(landmarks)"
   ]
  },
  {
   "cell_type": "code",
   "execution_count": 34,
   "metadata": {},
   "outputs": [],
   "source": [
    "two_hands = result.loc[~result[['x34','x55']].isin(['nan']).any(axis=1)]"
   ]
  },
  {
   "cell_type": "code",
   "execution_count": 35,
   "metadata": {},
   "outputs": [],
   "source": [
    "two_hands.to_csv('datasets/two_hands.csv', mode='a', header=False)"
   ]
  },
  {
   "cell_type": "code",
   "execution_count": null,
   "metadata": {},
   "outputs": [],
   "source": []
  }
 ],
 "metadata": {
  "kernelspec": {
   "display_name": "Python 3",
   "language": "python",
   "name": "python3"
  },
  "language_info": {
   "codemirror_mode": {
    "name": "ipython",
    "version": 3
   },
   "file_extension": ".py",
   "mimetype": "text/x-python",
   "name": "python",
   "nbconvert_exporter": "python",
   "pygments_lexer": "ipython3",
   "version": "3.8.5"
  }
 },
 "nbformat": 4,
 "nbformat_minor": 4
}
