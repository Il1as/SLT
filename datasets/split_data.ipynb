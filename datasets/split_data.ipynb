{
 "cells": [
  {
   "cell_type": "code",
   "execution_count": 45,
   "metadata": {},
   "outputs": [],
   "source": [
    "import pandas as pd\n",
    "import numpy as np\n",
    "\n",
    "df=pd.read_csv(\"animals.csv\")"
   ]
  },
  {
   "cell_type": "code",
   "execution_count": 46,
   "metadata": {},
   "outputs": [],
   "source": [
    "import csv\n",
    "from os import path\n",
    "\n",
    "def create_csv_for_first_time(file_name,nbr_features):\n",
    "    landmarks = ['class']\n",
    "    for val in range(1, nbr_features+1):\n",
    "        landmarks += ['x{}'.format(val), 'y{}'.format(val), 'z{}'.format(val), 'v{}'.format(val)]\n",
    "\n",
    "    with open(file_name, mode='w', newline='') as f:\n",
    "        csv_writer = csv.writer(f, delimiter=',', quotechar='\"', quoting=csv.QUOTE_MINIMAL)\n",
    "        csv_writer.writerow(landmarks)\n",
    "\n",
    "if(not path.exists(\"right_hand.csv\")):\n",
    "    create_csv_for_first_time(\"right_hand.csv\",54)\n",
    "if(not path.exists(\"left_hand.csv\")):\n",
    "    create_csv_for_first_time(\"left_hand.csv\",54)\n",
    "if(not path.exists(\"both_hands.csv\")):\n",
    "    create_csv_for_first_time(\"both_hands.csv\",75)"
   ]
  },
  {
   "cell_type": "code",
   "execution_count": 47,
   "metadata": {},
   "outputs": [
    {
     "name": "stdout",
     "output_type": "stream",
     "text": [
      " Left hand nbr: 619\n",
      " Right hand nbr: 191\n",
      " Both hands nbr: 690\n"
     ]
    }
   ],
   "source": [
    "def is_right_hand_movement(index):\n",
    "    first_index_feature_of_right_hand=133#34*4-3\n",
    "    return not np.isnan(df.iloc[index][first_index_feature_of_right_hand])\n",
    "\n",
    "def is_left_hand_movement(index):\n",
    "    first_index_feature_of_left_hand=217#55*4-3\n",
    "    return not np.isnan(df.iloc[index][first_index_feature_of_left_hand])\n",
    "\n",
    "def is_both_hands_movement(index):\n",
    "    return is_right_hand_movement(index) and is_left_hand_movement(index)\n",
    "    \n",
    "def concat_row_to_dataframe(dataframe,row):\n",
    "    return pd.concat([row,dataframe],ignore_index=True)\n",
    "    \n",
    "both_hands_df=pd.DataFrame()\n",
    "left_hand_df=pd.DataFrame()\n",
    "right_hand_df=pd.DataFrame()\n",
    "r=0\n",
    "l=0\n",
    "bh=0\n",
    "loc = df.columns.get_loc\n",
    "for index in range(len(df)):\n",
    "    if(is_both_hands_movement(index)):\n",
    "        bh+=1\n",
    "        both_hands_df=concat_row_to_dataframe(dataframe=both_hands_df,row=df.iloc[index][:].to_frame().T)\n",
    "    elif(is_left_hand_movement(index)):\n",
    "        l+=1\n",
    "        left_hand_df=concat_row_to_dataframe(dataframe=left_hand_df,row=df.iloc[index, np.r_[loc('class'):loc('v33')+1, loc('x55'):loc('v75')+1]].to_frame().T)\n",
    "    elif(is_right_hand_movement(index)):\n",
    "        r+=1\n",
    "        right_hand_df=concat_row_to_dataframe(dataframe=right_hand_df,row=df.iloc[index][0:217].to_frame().T)\n",
    "\n",
    "print(\" Left hand nbr: \"+str(l)+\"\\n\",\"Right hand nbr: \"+str(r)+\"\\n\",\"Both hands nbr: \"+str(bh))"
   ]
  },
  {
   "cell_type": "code",
   "execution_count": 48,
   "metadata": {},
   "outputs": [],
   "source": [
    "#append data to files\n",
    "left_hand_df.to_csv('left_hand.csv', mode='a', header=False)\n",
    "right_hand_df.to_csv('right_hand.csv', mode='a', header=False)\n",
    "both_hands_df.to_csv('both_hands.csv', mode='a', header=False)"
   ]
  }
 ],
 "metadata": {
  "kernelspec": {
   "display_name": "Python 3",
   "language": "python",
   "name": "python3"
  },
  "language_info": {
   "codemirror_mode": {
    "name": "ipython",
    "version": 3
   },
   "file_extension": ".py",
   "mimetype": "text/x-python",
   "name": "python",
   "nbconvert_exporter": "python",
   "pygments_lexer": "ipython3",
   "version": "3.8.3"
  }
 },
 "nbformat": 4,
 "nbformat_minor": 4
}
